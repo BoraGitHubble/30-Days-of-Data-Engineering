{
 "cells": [
  {
   "cell_type": "code",
   "execution_count": 1,
   "id": "64ee1036",
   "metadata": {},
   "outputs": [
    {
     "name": "stdout",
     "output_type": "stream",
     "text": [
      "Condition not satisfied\n"
     ]
    }
   ],
   "source": [
    "# Data types, strings, operators, and Chaining Comparison Operators with Logical Operators\n",
    "num1 = 10\n",
    "num2 = 20\n",
    "if num1 > num2 and num1 % 2 == 0:\n",
    "    print(\"num1 is greater than num2 and is even\")\n",
    "else:\n",
    "    print(\"Condition not satisfied\")"
   ]
  },
  {
   "cell_type": "code",
   "execution_count": 3,
   "id": "5d43415a",
   "metadata": {},
   "outputs": [
    {
     "name": "stdout",
     "output_type": "stream",
     "text": [
      "[1, 2, 3, 4, 5]\n",
      "{'name': 'John', 'age': 30}\n",
      "{1, 2, 3, 4, 5}\n",
      "(1, 2, 3, 4, 5)\n"
     ]
    }
   ],
   "source": [
    "# Python Lists and Dictionaries, Sets, Tuples\n",
    "my_list = [1, 2, 3, 4, 5]\n",
    "my_dict = {'name': 'John', 'age': 30}\n",
    "my_set = {1, 2, 3, 4, 5}\n",
    "my_tuple = (1, 2, 3, 4, 5)\n",
    "\n",
    "print(my_list)\n",
    "print(my_dict)\n",
    "print(my_set)\n",
    "print(my_tuple)"
   ]
  },
  {
   "cell_type": "code",
   "execution_count": 4,
   "id": "abc1f082",
   "metadata": {},
   "outputs": [
    {
     "name": "stdout",
     "output_type": "stream",
     "text": [
      "1\n",
      "2\n"
     ]
    }
   ],
   "source": [
    "# Loops, Break and Continue Statements\n",
    "for num in my_list:\n",
    "    if num == 3:\n",
    "        break\n",
    "    print(num)"
   ]
  },
  {
   "cell_type": "code",
   "execution_count": 7,
   "id": "4473e66d",
   "metadata": {},
   "outputs": [
    {
     "name": "stdout",
     "output_type": "stream",
     "text": [
      "Toyota\n",
      "Corolla\n",
      "Engine started.\n"
     ]
    }
   ],
   "source": [
    "# Object-Oriented Programming - Class and attributes\n",
    "class Car:\n",
    "    def __init__(self, make, model):\n",
    "        self.make = make\n",
    "        self.model = model\n",
    "\n",
    "    def start_engine(self):\n",
    "        print(\"Engine started.\")\n",
    "\n",
    "my_car = Car(\"Toyota\", \"Corolla\")\n",
    "print(my_car.make)\n",
    "print(my_car.model)\n",
    "my_car.start_engine()"
   ]
  },
  {
   "cell_type": "code",
   "execution_count": 8,
   "id": "8c43657f",
   "metadata": {},
   "outputs": [
    {
     "name": "stdout",
     "output_type": "stream",
     "text": [
      "13\n",
      "HELLO, WORLD!\n",
      "hello, world!\n",
      "['Hello', ' World!']\n"
     ]
    }
   ],
   "source": [
    "# Python strings in detail\n",
    "my_string = \"Hello, World!\"\n",
    "print(len(my_string))\n",
    "print(my_string.upper())\n",
    "print(my_string.lower())\n",
    "print(my_string.split(\",\"))"
   ]
  },
  {
   "cell_type": "code",
   "execution_count": 9,
   "id": "8b0eba6d",
   "metadata": {},
   "outputs": [
    {
     "name": "stdout",
     "output_type": "stream",
     "text": [
      "My name is John and I am 30 years old.\n",
      "[1, 4, 9, 16, 25]\n"
     ]
    }
   ],
   "source": [
    "# Python F-String\n",
    "name = \"John\"\n",
    "age = 30\n",
    "print(f\"My name is {name} and I am {age} years old.\")\n",
    "\n",
    "# Map, Classes, Functions and Arguments\n",
    "def square(num):\n",
    "    return num ** 2\n",
    "\n",
    "numbers = [1, 2, 3, 4, 5]\n",
    "squared_numbers = list(map(square, numbers))\n",
    "print(squared_numbers)"
   ]
  },
  {
   "cell_type": "code",
   "execution_count": 10,
   "id": "38e1b744",
   "metadata": {},
   "outputs": [
    {
     "name": "stdout",
     "output_type": "stream",
     "text": [
      "15\n"
     ]
    }
   ],
   "source": [
    "# First Class functions, Private Variables, Global and Non Local Variables, __import__ function\n",
    "def outer_func():\n",
    "    x = 10\n",
    "    def inner_func():\n",
    "        nonlocal x\n",
    "        x += 5\n",
    "        print(x)\n",
    "    inner_func()\n",
    "\n",
    "outer_func()"
   ]
  },
  {
   "cell_type": "code",
   "execution_count": 11,
   "id": "a27ca1de",
   "metadata": {},
   "outputs": [
    {
     "name": "stdout",
     "output_type": "stream",
     "text": [
      "1 2 3\n"
     ]
    }
   ],
   "source": [
    "# Magic Functions, Tuple Unpacking\n",
    "my_tuple = (1, 2, 3)\n",
    "a, b, c = my_tuple\n",
    "print(a, b, c)"
   ]
  },
  {
   "cell_type": "code",
   "execution_count": 12,
   "id": "a70a5ba2",
   "metadata": {},
   "outputs": [
    {
     "name": "stdout",
     "output_type": "stream",
     "text": [
      "3.14159\n",
      "25\n"
     ]
    }
   ],
   "source": [
    "# Static Variables and Methods in Python\n",
    "class MathUtils:\n",
    "    PI = 3.14159\n",
    "\n",
    "    @staticmethod\n",
    "    def square(num):\n",
    "        return num ** 2\n",
    "\n",
    "print(MathUtils.PI)\n",
    "print(MathUtils.square(5))"
   ]
  },
  {
   "cell_type": "code",
   "execution_count": 13,
   "id": "ce9a93ef",
   "metadata": {},
   "outputs": [
    {
     "name": "stdout",
     "output_type": "stream",
     "text": [
      "5\n"
     ]
    }
   ],
   "source": [
    "# Lambda Functions, Magic methods\n",
    "add = lambda x, y: x + y\n",
    "print(add(2, 3))"
   ]
  },
  {
   "cell_type": "code",
   "execution_count": 14,
   "id": "af7cab2b",
   "metadata": {},
   "outputs": [
    {
     "name": "stdout",
     "output_type": "stream",
     "text": [
      "Meow\n"
     ]
    }
   ],
   "source": [
    "# Inheritance and Polymorphism, Errors and Exception Handling\n",
    "class Animal:\n",
    "    def sound(self):\n",
    "        raise NotImplementedError(\"Subclasses must implement sound() method.\")\n",
    "\n",
    "class Cat(Animal):\n",
    "    def sound(self):\n",
    "        return \"Meow\"\n",
    "\n",
    "my_cat = Cat()\n",
    "print(my_cat.sound())"
   ]
  },
  {
   "cell_type": "code",
   "execution_count": 15,
   "id": "f8ed06c7",
   "metadata": {},
   "outputs": [
    {
     "name": "stdout",
     "output_type": "stream",
     "text": [
      "Hello, John!\n"
     ]
    }
   ],
   "source": [
    "# User-defined functions, Python garbage collection, debugger in Python\n",
    "def greet(name):\n",
    "    print(f\"Hello, {name}!\")\n",
    "\n",
    "greet(\"John\")\n"
   ]
  },
  {
   "cell_type": "code",
   "execution_count": 17,
   "id": "d38f7680",
   "metadata": {},
   "outputs": [
    {
     "name": "stdout",
     "output_type": "stream",
     "text": [
      "0\n",
      "1\n",
      "1\n",
      "2\n",
      "3\n",
      "5\n",
      "8\n",
      "13\n",
      "21\n",
      "34\n"
     ]
    }
   ],
   "source": [
    "# Iterators, Generators, and Decorators, Memoization using Decorators\n",
    "def fibonacci():\n",
    "    a, b = 0, 1\n",
    "    while True:\n",
    "        yield a\n",
    "        a, b = b, a + b\n",
    "#The yield statement allows the function to generate a value without terminating \n",
    "#and remembers its state to resume execution later.\n",
    "fib_gen = fibonacci()\n",
    "for _ in range(10):\n",
    "    print(next(fib_gen))"
   ]
  },
  {
   "cell_type": "code",
   "execution_count": 18,
   "id": "90587ac7",
   "metadata": {},
   "outputs": [
    {
     "name": "stdout",
     "output_type": "stream",
     "text": [
      "OrderedDict([('a', 1), ('b', 2)])\n",
      "0\n"
     ]
    }
   ],
   "source": [
    "# Ordered and Defaultdict, Coroutine\n",
    "from collections import OrderedDict, defaultdict\n",
    "\n",
    "ordered_dict = OrderedDict()\n",
    "ordered_dict['a'] = 1\n",
    "ordered_dict['b'] = 2\n",
    "print(ordered_dict)\n",
    "\n",
    "default_dict = defaultdict(int)\n",
    "default_dict['a'] = 1\n",
    "default_dict['b'] = 2\n",
    "print(default_dict['c'])  # Output: 0"
   ]
  },
  {
   "cell_type": "code",
   "execution_count": 19,
   "id": "c0e2cb9b",
   "metadata": {},
   "outputs": [
    {
     "name": "stdout",
     "output_type": "stream",
     "text": [
      "['Hello', 'World', 'This', 'is', 'a', 'sample', 'text']\n"
     ]
    }
   ],
   "source": [
    "# Regular expression, Magic methods, Closures\n",
    "import re\n",
    "\n",
    "pattern = r'\\b[A-Za-z]+\\b'\n",
    "text = \"Hello, World! This is a sample text.\"\n",
    "matches = re.findall(pattern, text)\n",
    "print(matches)"
   ]
  },
  {
   "cell_type": "code",
   "execution_count": 20,
   "id": "e4377b6c",
   "metadata": {},
   "outputs": [
    {
     "name": "stdout",
     "output_type": "stream",
     "text": [
      "1\n",
      "3\n"
     ]
    }
   ],
   "source": [
    "# ChainMap\n",
    "from collections import ChainMap\n",
    "\n",
    "dict1 = {'a': 1, 'b': 2}\n",
    "dict2 = {'c': 3, 'd': 4}\n",
    "chain_map = ChainMap(dict1, dict2)\n",
    "print(chain_map['a'])  # Output: 1\n",
    "print(chain_map['c'])  # Output: 3"
   ]
  },
  {
   "cell_type": "code",
   "execution_count": 21,
   "id": "8cdad212",
   "metadata": {},
   "outputs": [
    {
     "name": "stdout",
     "output_type": "stream",
     "text": [
      "(1, 'a')\n",
      "(1, 'b')\n",
      "(1, 'c')\n",
      "(2, 'a')\n",
      "(2, 'b')\n",
      "(2, 'c')\n",
      "(3, 'a')\n",
      "(3, 'b')\n",
      "(3, 'c')\n"
     ]
    }
   ],
   "source": [
    "# Python Itertools\n",
    "import itertools\n",
    "\n",
    "numbers = [1, 2, 3]\n",
    "letters = ['a', 'b', 'c']\n",
    "combined = itertools.product(numbers, letters)\n",
    "for item in combined:\n",
    "    print(item)"
   ]
  },
  {
   "cell_type": "code",
   "execution_count": 22,
   "id": "ee07bba9",
   "metadata": {},
   "outputs": [
    {
     "name": "stdout",
     "output_type": "stream",
     "text": [
      "[None, 2, None]\n"
     ]
    }
   ],
   "source": [
    "# Advanced python constructs\n",
    "result = [x if x % 2 == 0 else None for x in numbers]\n",
    "print(result)"
   ]
  },
  {
   "cell_type": "code",
   "execution_count": 23,
   "id": "a482d2c1",
   "metadata": {},
   "outputs": [
    {
     "name": "stdout",
     "output_type": "stream",
     "text": [
      "1\n",
      "2\n",
      "(120, 5)\n"
     ]
    }
   ],
   "source": [
    "# Comprehensions, Named Tuple, Type hinting in Python\n",
    "from typing import List, Tuple\n",
    "from collections import namedtuple\n",
    "\n",
    "Point = namedtuple('Point', ['x', 'y'])\n",
    "p = Point(1, 2)\n",
    "print(p.x)\n",
    "print(p.y)\n",
    "\n",
    "def multiply(numbers: List[int]) -> Tuple[int, int]:\n",
    "    product = 1\n",
    "    for num in numbers:\n",
    "        product *= num\n",
    "    return product, len(numbers)\n",
    "\n",
    "print(multiply([1, 2, 3, 4, 5]))"
   ]
  },
  {
   "cell_type": "code",
   "execution_count": 26,
   "id": "8d3c8421",
   "metadata": {},
   "outputs": [
    {
     "name": "stdout",
     "output_type": "stream",
     "text": [
      "Hello, John!\n"
     ]
    }
   ],
   "source": [
    "#User-defined functions, Python garbage collection, debugger in Python\n",
    "def greet(name):\n",
    "    print(f\"Hello, {name}!\")\n",
    "\n",
    "greet(\"John\")"
   ]
  },
  {
   "cell_type": "code",
   "execution_count": 27,
   "id": "277ac92f",
   "metadata": {},
   "outputs": [
    {
     "name": "stdout",
     "output_type": "stream",
     "text": [
      "0\n",
      "1\n",
      "1\n",
      "2\n",
      "3\n",
      "5\n",
      "8\n",
      "13\n",
      "21\n",
      "34\n"
     ]
    }
   ],
   "source": [
    "# Python garbage collection - no specific code implementation required here\n",
    "# Debugger in Python - can be done using the built-in pdb module or an IDE's debugging features\n",
    "\n",
    "#Iterators, Generators, and Decorators, Memoization using Decorators\n",
    "def fibonacci():\n",
    "    a, b = 0, 1\n",
    "    while True:\n",
    "        yield a\n",
    "        a, b = b, a + b\n",
    "\n",
    "fib_gen = fibonacci()\n",
    "for _ in range(10):\n",
    "    print(next(fib_gen))"
   ]
  },
  {
   "cell_type": "code",
   "execution_count": 28,
   "id": "fed961f8",
   "metadata": {},
   "outputs": [
    {
     "name": "stdout",
     "output_type": "stream",
     "text": [
      "Before function call\n",
      "Inside decorated function\n",
      "After function call\n"
     ]
    }
   ],
   "source": [
    "# Decorators\n",
    "def my_decorator(func):\n",
    "    def wrapper():\n",
    "        print(\"Before function call\")\n",
    "        func()\n",
    "        print(\"After function call\")\n",
    "    return wrapper\n",
    "\n",
    "@my_decorator\n",
    "def my_function():\n",
    "    print(\"Inside decorated function\")\n",
    "\n",
    "my_function()\n"
   ]
  },
  {
   "cell_type": "code",
   "execution_count": 30,
   "id": "8dd75915",
   "metadata": {},
   "outputs": [
    {
     "name": "stdout",
     "output_type": "stream",
     "text": [
      "55\n"
     ]
    }
   ],
   "source": [
    "# Memoization using Decorators\n",
    "def memoize(func):\n",
    "    memo = {}\n",
    "    def wrapper(n):\n",
    "        if n not in memo:\n",
    "            memo[n] = func(n)\n",
    "        return memo[n]\n",
    "    return wrapper\n",
    "\n",
    "@memoize\n",
    "def fibonacci(n):\n",
    "    if n <= 1:\n",
    "        return n\n",
    "    return fibonacci(n-1) + fibonacci(n-2)\n",
    "\n",
    "print(fibonacci(10))"
   ]
  },
  {
   "cell_type": "code",
   "execution_count": 31,
   "id": "25a4b0dd",
   "metadata": {},
   "outputs": [
    {
     "name": "stdout",
     "output_type": "stream",
     "text": [
      "OrderedDict([('a', 1), ('b', 2)])\n",
      "0\n",
      "Received: 10\n"
     ]
    }
   ],
   "source": [
    "#Ordered and Defaultdict, Coroutine\n",
    "from collections import OrderedDict, defaultdict\n",
    "\n",
    "ordered_dict = OrderedDict()\n",
    "ordered_dict['a'] = 1\n",
    "ordered_dict['b'] = 2\n",
    "print(ordered_dict)\n",
    "\n",
    "default_dict = defaultdict(int)\n",
    "default_dict['a'] = 1\n",
    "default_dict['b'] = 2\n",
    "print(default_dict['c'])  # Output: 0\n",
    "\n",
    "# Coroutine\n",
    "def coroutine():\n",
    "    while True:\n",
    "        x = yield\n",
    "        print(f\"Received: {x}\")\n",
    "\n",
    "coro = coroutine()\n",
    "next(coro)\n",
    "coro.send(10)"
   ]
  },
  {
   "cell_type": "code",
   "execution_count": 32,
   "id": "c2b2906f",
   "metadata": {},
   "outputs": [
    {
     "name": "stdout",
     "output_type": "stream",
     "text": [
      "['Hello', 'World', 'This', 'is', 'a', 'sample', 'text']\n",
      "15\n"
     ]
    }
   ],
   "source": [
    "#Regular expression, Magic methods, Closures\n",
    "import re\n",
    "\n",
    "pattern = r'\\b[A-Za-z]+\\b'\n",
    "text = \"Hello, World! This is a sample text.\"\n",
    "matches = re.findall(pattern, text)\n",
    "print(matches)\n",
    "\n",
    "# Closures\n",
    "def outer_func(x):\n",
    "    def inner_func(y):\n",
    "        return x + y\n",
    "    return inner_func\n",
    "\n",
    "closure = outer_func(10)\n",
    "print(closure(5))"
   ]
  },
  {
   "cell_type": "code",
   "execution_count": 33,
   "id": "63273605",
   "metadata": {},
   "outputs": [
    {
     "name": "stdout",
     "output_type": "stream",
     "text": [
      "1\n",
      "3\n"
     ]
    }
   ],
   "source": [
    "#ChainMap\n",
    "from collections import ChainMap\n",
    "\n",
    "dict1 = {'a': 1, 'b': 2}\n",
    "dict2 = {'c': 3, 'd': 4}\n",
    "chain_map = ChainMap(dict1, dict2)\n",
    "print(chain_map['a'])  # Output: 1\n",
    "print(chain_map['c'])  # Output: 3"
   ]
  },
  {
   "cell_type": "code",
   "execution_count": 34,
   "id": "d196531b",
   "metadata": {},
   "outputs": [
    {
     "name": "stdout",
     "output_type": "stream",
     "text": [
      "(1, 'a')\n",
      "(1, 'b')\n",
      "(1, 'c')\n",
      "(2, 'a')\n",
      "(2, 'b')\n",
      "(2, 'c')\n",
      "(3, 'a')\n",
      "(3, 'b')\n",
      "(3, 'c')\n"
     ]
    }
   ],
   "source": [
    "#Python Itertools\n",
    "import itertools\n",
    "\n",
    "numbers = [1, 2, 3]\n",
    "letters = ['a', 'b', 'c']\n",
    "combined = itertools.product(numbers, letters)\n",
    "for item in combined:\n",
    "    print(item)"
   ]
  },
  {
   "cell_type": "code",
   "execution_count": 35,
   "id": "6f569175",
   "metadata": {},
   "outputs": [
    {
     "name": "stdout",
     "output_type": "stream",
     "text": [
      "[None, 2, None]\n"
     ]
    }
   ],
   "source": [
    "#Advanced python constructs\n",
    "result = [x if x % 2 == 0 else None for x in numbers]\n",
    "print(result)"
   ]
  },
  {
   "cell_type": "code",
   "execution_count": 36,
   "id": "3b399852",
   "metadata": {},
   "outputs": [
    {
     "name": "stdout",
     "output_type": "stream",
     "text": [
      "1\n",
      "2\n"
     ]
    }
   ],
   "source": [
    "#Comprehensions, Named Tuple, Type hinting in Python\n",
    "from typing import List, Tuple\n",
    "from collections import namedtuple\n",
    "\n",
    "Point = namedtuple('Point', ['x', 'y'])\n",
    "p = Point(1, 2)\n",
    "print(p.x)\n",
    "print(p.y)\n",
    "\n",
    "def multiply(numbers: List[int]) -> Tuple[int, int]:\n",
    "    product = 1\n",
    "    for num in numbers:\n",
    "        product *= num\n",
    "    return product, len(numbers)"
   ]
  },
  {
   "cell_type": "code",
   "execution_count": null,
   "id": "59f7ad84",
   "metadata": {},
   "outputs": [],
   "source": []
  }
 ],
 "metadata": {
  "kernelspec": {
   "display_name": "Python 3 (ipykernel)",
   "language": "python",
   "name": "python3"
  },
  "language_info": {
   "codemirror_mode": {
    "name": "ipython",
    "version": 3
   },
   "file_extension": ".py",
   "mimetype": "text/x-python",
   "name": "python",
   "nbconvert_exporter": "python",
   "pygments_lexer": "ipython3",
   "version": "3.10.9"
  }
 },
 "nbformat": 4,
 "nbformat_minor": 5
}
